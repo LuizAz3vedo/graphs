{
  "nbformat": 4,
  "nbformat_minor": 0,
  "metadata": {
    "colab": {
      "provenance": [],
      "authorship_tag": "ABX9TyOa+8Wv8xoq641wZ/0Xr2qt",
      "include_colab_link": true
    },
    "kernelspec": {
      "name": "python3",
      "display_name": "Python 3"
    },
    "language_info": {
      "name": "python"
    }
  },
  "cells": [
    {
      "cell_type": "markdown",
      "metadata": {
        "id": "view-in-github",
        "colab_type": "text"
      },
      "source": [
        "<a href=\"https://colab.research.google.com/github/LuizAz3vedo/graphs/blob/main/Algoritmos_de_Grafos.ipynb\" target=\"_parent\"><img src=\"https://colab.research.google.com/assets/colab-badge.svg\" alt=\"Open In Colab\"/></a>"
      ]
    },
    {
      "cell_type": "code",
      "execution_count": null,
      "metadata": {
        "id": "xn7mgTjiuVPv"
      },
      "outputs": [],
      "source": [
        "#Pesquisa em largura\n",
        "from collections import deque"
      ]
    },
    {
      "cell_type": "code",
      "source": [
        "grafo = {}\n",
        "grafo[\"voce\"] = [\"alice\", \"bob\", \"claire\"]\n",
        "grafo[\"bob\"] = [\"anuj\", \"peggy\"]\n",
        "grafo[\"alice\"] = [\"peggy\"]\n",
        "grafo[\"claire\"] = [\"thom\", \"jonny\"]\n",
        "grafo[\"anuj\"] = []\n",
        "grafo[\"peggy\"] = []\n",
        "grafo[\"thom\"] = []\n",
        "grafo[\"jonny\"] = []\n",
        "\n",
        "def pesquisa(nome):\n",
        "  fila_de_pesquisa = deque()\n",
        "  fila_de_pesquisa += grafo[nome]\n",
        "  verificadas = []\n",
        "\n",
        "  while fila_de_pesquisa:\n",
        "    pessoa = fila_de_pesquisa.popleft()\n",
        "    if not pessoa in verificadas:\n",
        "      if pessoa_e_vendedor(pessoa):\n",
        "        print(pessoa + \" é um vendedor de manga!\")\n",
        "        return True\n",
        "      else:\n",
        "        fila_de_pesquisa += grafo[pessoa]\n",
        "        verificadas.append(pessoa)\n",
        "  return False\n",
        "\n",
        "def pessoa_e_vendedor(nome):\n",
        "  return nome[-1] == \"m\"\n",
        "\n",
        "pesquisa(\"voce\")"
      ],
      "metadata": {
        "colab": {
          "base_uri": "https://localhost:8080/"
        },
        "id": "BzrNb_PAzvE3",
        "outputId": "8e021ee9-d3a2-4b3f-a6cd-70f68aaffd19"
      },
      "execution_count": null,
      "outputs": [
        {
          "output_type": "stream",
          "name": "stdout",
          "text": [
            "thom é um vendedor de manga!\n"
          ]
        },
        {
          "output_type": "execute_result",
          "data": {
            "text/plain": [
              "True"
            ]
          },
          "metadata": {},
          "execution_count": 3
        }
      ]
    },
    {
      "cell_type": "markdown",
      "source": [
        "Algoritmo de Dijkstra:\n",
        "\n",
        "O algoritmo de Dijkstra é usado para encontrar o caminho mais curto entre um vértice de origem e todos os outros vértices em um gráfico ponderado com pesos não negativos.\n",
        "Ele mantém um conjunto de vértices cujas distâncias mais curtas a partir da origem já foram determinadas.\n",
        "O algoritmo seleciona iterativamente o vértice mais próximo da origem e relaxa todas as arestas adjacentes a ele, atualizando as distâncias se encontrar um caminho mais curto.\n",
        "É eficiente quando as distâncias não são negativas, mas não lida bem com pesos negativos."
      ],
      "metadata": {
        "id": "_WVMNGBhHLBz"
      }
    },
    {
      "cell_type": "code",
      "source": [
        "#Dijkstra configuração\n",
        "grafo = {}\n",
        "\n",
        "grafo[\"inicio\"] = {}\n",
        "grafo[\"inicio\"][\"a\"] = 6\n",
        "grafo[\"inicio\"][\"b\"] = 2\n",
        "\n",
        "grafo[\"a\"] = {}\n",
        "grafo[\"a\"][\"fim\"] = 1\n",
        "\n",
        "grafo[\"b\"] = {}\n",
        "grafo[\"b\"][\"a\"] = 3\n",
        "grafo[\"b\"][\"fim\"] = 5\n",
        "\n",
        "grafo[\"fim\"] = {}\n",
        "\n",
        "infinito = float(\"inf\")\n",
        "\n",
        "custos = {}\n",
        "custos[\"a\"] = 6\n",
        "custos[\"b\"] = 2\n",
        "custos[\"fim\"] = infinito\n",
        "\n",
        "pais = {}\n",
        "pais[\"a\"] = \"inicio\"\n",
        "pais[\"b\"] = \"inicio\"\n",
        "pais[\"fim\"] = None\n",
        "\n",
        "processados = []\n",
        "\n"
      ],
      "metadata": {
        "id": "3fquluxN2I80"
      },
      "execution_count": null,
      "outputs": []
    },
    {
      "cell_type": "code",
      "source": [
        "#Dijkstra algoritmo\n",
        "\n",
        "def ache_no_custo_mais_baixo(custos):\n",
        "  custo_mais_baixo = float(\"inf\")\n",
        "  nodo_custo_mais_baixo = None\n",
        "  for nodo in custos:\n",
        "    custo = custos[nodo]\n",
        "    if custo < custo_mais_baixo and nodo not in processados:\n",
        "      custo_mais_baixo = custo\n",
        "      nodo_custo_mais_baixo = nodo\n",
        "  return nodo_custo_mais_baixo\n",
        "\n",
        "nodo = ache_no_custo_mais_baixo(custos)\n",
        "while nodo is not None:\n",
        "    custo = custos[nodo]\n",
        "    vizinhos = grafo[nodo]\n",
        "    for n in vizinhos.keys():\n",
        "        novo_custo = custo + vizinhos[n]\n",
        "        if custos[n] > novo_custo:\n",
        "            custos[n] = novo_custo\n",
        "            pais[n] = nodo\n",
        "    processados.append(nodo)  # Esta linha foi movida para fora do loop for\n",
        "    nodo = ache_no_custo_mais_baixo(custos)\n",
        "\n",
        "\n",
        "def encontrar_caminho_mais_curto(pais, inicio, fim):\n",
        "    caminho = [fim]\n",
        "    while caminho[-1] != inicio:\n",
        "        caminho.append(pais[caminho[-1]])\n",
        "    caminho.reverse()\n",
        "    return caminho\n",
        "\n",
        "#Printando o resultado\n",
        "inicio = \"inicio\"\n",
        "fim = \"fim\"\n",
        "caminho_mais_curto = encontrar_caminho_mais_curto(pais, inicio, fim)\n",
        "print(\"Caminho mais curto:\", caminho_mais_curto)\n",
        "\n",
        "\n",
        "\n"
      ],
      "metadata": {
        "colab": {
          "base_uri": "https://localhost:8080/"
        },
        "id": "vP9VkOAwAEH9",
        "outputId": "cf2ac60f-f0ba-4e05-9759-5653f8e01194"
      },
      "execution_count": null,
      "outputs": [
        {
          "output_type": "stream",
          "name": "stdout",
          "text": [
            "Caminho mais curto: ['inicio', 'b', 'a', 'fim']\n"
          ]
        }
      ]
    },
    {
      "cell_type": "markdown",
      "source": [
        "Algoritmo de Bellman-Ford:\n",
        "\n",
        "O algoritmo de Bellman-Ford é usado para encontrar o caminho mais curto entre um vértice de origem e todos os outros vértices em um gráfico ponderado, mesmo quando há pesos negativos.\n",
        "Ele realiza relaxamento de todas as arestas repetidamente para garantir que as distâncias mais curtas sejam encontradas, permitindo detectar ciclos de peso negativo.\n",
        "O algoritmo é mais lento que o algoritmo de Dijkstra, mas é mais versátil, pois pode lidar com pesos negativos"
      ],
      "metadata": {
        "id": "XPFy29n-HP5k"
      }
    },
    {
      "cell_type": "code",
      "source": [
        "class Grafo:\n",
        "    def __init__(self, vertices):\n",
        "        self.V = vertices\n",
        "        self.grafo = []\n",
        "\n",
        "    def adiciona_aresta(self, u, v, w):\n",
        "        self.grafo.append([u, v, w])\n",
        "\n",
        "    def imprime_distancias(self, dist):\n",
        "        print(\"Vertice \\t Distancia do Vertice Inicial\")\n",
        "        for i in range(self.V):\n",
        "            print(f\"{i}\\t\\t{dist[i]}\")\n",
        "\n",
        "    def bellman_ford(self, src):\n",
        "        dist = [float(\"inf\")] * self.V\n",
        "        dist[src] = 0\n",
        "\n",
        "        for _ in range(self.V - 1):\n",
        "            for u, v, w in self.grafo:\n",
        "                if dist[u] != float(\"inf\") and dist[u] + w < dist[v]:\n",
        "                    dist[v] = dist[u] + w\n",
        "\n",
        "        for u, v, w in self.grafo:\n",
        "            if dist[u] != float(\"inf\") and dist[u] + w < dist[v]:\n",
        "                print(\"O grafo contem um ciclo de peso negativo\")\n",
        "                return\n",
        "\n",
        "        self.imprime_distancias(dist)\n",
        "\n",
        "\n",
        "g = Grafo(5)\n",
        "g.adiciona_aresta(0, 1, -1)\n",
        "g.adiciona_aresta(0, 2, 4)\n",
        "g.adiciona_aresta(1, 2, 3)\n",
        "g.adiciona_aresta(1, 3, 2)\n",
        "g.adiciona_aresta(1, 4, 2)\n",
        "g.adiciona_aresta(3, 2, 5)\n",
        "g.adiciona_aresta(3, 1, 1)\n",
        "g.adiciona_aresta(4, 3, -3)\n",
        "\n",
        "g.bellman_ford(0)\n"
      ],
      "metadata": {
        "colab": {
          "base_uri": "https://localhost:8080/"
        },
        "id": "t-5GYAUGHPc1",
        "outputId": "cfbdcea1-1e94-4d98-ebf8-9b8283a29069"
      },
      "execution_count": null,
      "outputs": [
        {
          "output_type": "stream",
          "name": "stdout",
          "text": [
            "Vertice \t Distancia do Vertice Inicial\n",
            "0\t\t0\n",
            "1\t\t-1\n",
            "2\t\t2\n",
            "3\t\t-2\n",
            "4\t\t1\n"
          ]
        }
      ]
    },
    {
      "cell_type": "markdown",
      "source": [
        "Algoritmo de Floyd-Warshall:\n",
        "\n",
        "O algoritmo de Floyd-Warshall é usado para encontrar os caminhos mais curtos entre todos os pares de vértices em um gráfico ponderado, mesmo quando há pesos negativos (desde que não haja ciclos de peso negativo alcançáveis a partir do vértice de origem).\n",
        "Ele utiliza uma matriz para armazenar as distâncias mínimas entre todos os pares de vértices e atualiza essa matriz iterativamente.\n",
        "O algoritmo é eficiente para grafos pequenos, mas seu tempo de execução é proporcional a V^3 (onde V é o número de vértices), tornando-se impraticável para grafos muito grandes."
      ],
      "metadata": {
        "id": "lSegv3zCHkeo"
      }
    },
    {
      "cell_type": "code",
      "source": [
        "INF = float(\"inf\")\n",
        "\n",
        "def floyd_warshall(graph):\n",
        "    V = len(graph)\n",
        "    dist = [[INF] * V for _ in range(V)]\n",
        "\n",
        "    for i in range(V):\n",
        "        for j in range(V):\n",
        "            if i == j:\n",
        "                dist[i][j] = 0\n",
        "            elif graph[i][j] != 0:\n",
        "                dist[i][j] = graph[i][j]\n",
        "\n",
        "    for k in range(V):\n",
        "        for i in range(V):\n",
        "            for j in range(V):\n",
        "                if dist[i][k] != INF and dist[k][j] != INF and dist[i][k] + dist[k][j] < dist[i][j]:\n",
        "                    dist[i][j] = dist[i][k] + dist[k][j]\n",
        "\n",
        "    return dist\n",
        "\n",
        "graph = [\n",
        "    [0, 5, INF, 10],\n",
        "    [INF, 0, 3, INF],\n",
        "    [INF, INF, 0, 1],\n",
        "    [INF, INF, INF, 0]\n",
        "]\n",
        "\n",
        "result = floyd_warshall(graph)\n",
        "for row in result:\n",
        "    print(row)\n"
      ],
      "metadata": {
        "colab": {
          "base_uri": "https://localhost:8080/"
        },
        "id": "6ctABgMyHky5",
        "outputId": "4d1e8ca1-c7c8-4d98-a811-8b0744436bf6"
      },
      "execution_count": null,
      "outputs": [
        {
          "output_type": "stream",
          "name": "stdout",
          "text": [
            "[0, 5, 8, 9]\n",
            "[inf, 0, 3, 4]\n",
            "[inf, inf, 0, 1]\n",
            "[inf, inf, inf, 0]\n"
          ]
        }
      ]
    }
  ]
}