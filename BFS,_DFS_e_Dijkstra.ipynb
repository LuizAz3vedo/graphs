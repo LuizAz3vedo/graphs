{
  "nbformat": 4,
  "nbformat_minor": 0,
  "metadata": {
    "colab": {
      "provenance": [],
      "include_colab_link": true
    },
    "kernelspec": {
      "name": "python3",
      "display_name": "Python 3"
    },
    "language_info": {
      "name": "python"
    }
  },
  "cells": [
    {
      "cell_type": "markdown",
      "metadata": {
        "id": "view-in-github",
        "colab_type": "text"
      },
      "source": [
        "<a href=\"https://colab.research.google.com/github/LuizAz3vedo/graphs/blob/main/BFS%2C_DFS_e_Dijkstra.ipynb\" target=\"_parent\"><img src=\"https://colab.research.google.com/assets/colab-badge.svg\" alt=\"Open In Colab\"/></a>"
      ]
    },
    {
      "cell_type": "code",
      "execution_count": null,
      "metadata": {
        "colab": {
          "base_uri": "https://localhost:8080/"
        },
        "id": "beywa4vA4Ssl",
        "outputId": "7c872f89-5b6c-489e-a250-207c75402e73"
      },
      "outputs": [
        {
          "output_type": "stream",
          "name": "stdout",
          "text": [
            "A B C D E F "
          ]
        }
      ],
      "source": [
        "from collections import deque  # Importa a classe deque para usar como fila\n",
        "\n",
        "def busca_em_largura(grafo, inicio):\n",
        "    visitados = set()  # Cria um conjunto para rastrear os vértices visitados\n",
        "    fila = deque([inicio])  # Inicializa uma fila com o vértice inicial\n",
        "    visitados.add(inicio)  # Marca o vértice inicial como visitado\n",
        "\n",
        "    while fila:  # Enquanto a fila não estiver vazia\n",
        "        vertice = fila.popleft()  # Remove o primeiro elemento da fila (FIFO)\n",
        "        print(vertice, end=\" \")  # Imprime o vértice visitado\n",
        "\n",
        "        for vizinho in grafo[vertice]:  # Para cada vizinho do vértice atual\n",
        "            if vizinho not in visitados:  # Se o vizinho não foi visitado\n",
        "                fila.append(vizinho)  # Adiciona o vizinho à fila\n",
        "                visitados.add(vizinho)  # Marca o vizinho como visitado\n",
        "\n",
        "\n",
        "# Exemplo de uso\n",
        "grafo = {\n",
        "    'A': ['B', 'C'],\n",
        "    'B': ['A', 'D', 'E'],\n",
        "    'C': ['A', 'F'],\n",
        "    'D': ['B'],\n",
        "    'E': ['B', 'F'],\n",
        "    'F': ['C', 'E']\n",
        "}\n",
        "\n",
        "busca_em_largura(grafo, 'A') # Output: A B C D E F"
      ]
    },
    {
      "cell_type": "code",
      "source": [
        "from collections import deque  # Importa a classe deque para usar como fila\n",
        "\n",
        "def busca_em_largura(grafo, inicio):\n",
        "    visitados = set()  # Cria um conjunto para rastrear os vértices visitados\n",
        "    fila = deque([inicio])  # Inicializa uma fila com o vértice inicial\n",
        "    visitados.add(inicio)  # Marca o vértice inicial como visitado\n",
        "\n",
        "    while fila:  # Enquanto a fila não estiver vazia\n",
        "        vertice = fila.popleft()  # Remove o primeiro elemento da fila (FIFO)\n",
        "        print(f'Escolhido: {vertice}')  # Imprime o vértice escolhido\n",
        "        print(f'Fila: {list(fila)}')  # Imprime o estado atual da fila\n",
        "        print(f'Visitados: {visitados}')  # Imprime o conjunto de vértices visitados\n",
        "\n",
        "        for vizinho in grafo[vertice]:  # Para cada vizinho do vértice atual\n",
        "            if vizinho not in visitados:  # Se o vizinho não foi visitado\n",
        "                fila.append(vizinho)  # Adiciona o vizinho à fila\n",
        "                visitados.add(vizinho)  # Marca o vizinho como visitado\n",
        "                print(f'Adicionado à fila: {vizinho}')  # Imprime o vizinho adicionado à fila\n",
        "\n",
        "        print('---')  # Separação para facilitar a leitura\n",
        "\n",
        "# Exemplo de uso\n",
        "grafo = {\n",
        "    'A': ['B', 'C'],\n",
        "    'B': ['A', 'D', 'E'],\n",
        "    'C': ['A', 'F'],\n",
        "    'D': ['B'],\n",
        "    'E': ['B', 'F'],\n",
        "    'F': ['C', 'E']\n",
        "}\n",
        "\n",
        "busca_em_largura(grafo, 'A')"
      ],
      "metadata": {
        "colab": {
          "base_uri": "https://localhost:8080/"
        },
        "id": "YBJg1friFz7M",
        "outputId": "8d64b062-6e35-4710-b87b-bec057501f2a"
      },
      "execution_count": null,
      "outputs": [
        {
          "output_type": "stream",
          "name": "stdout",
          "text": [
            "Escolhido: A\n",
            "Fila: []\n",
            "Visitados: {'A'}\n",
            "Adicionado à fila: B\n",
            "Adicionado à fila: C\n",
            "---\n",
            "Escolhido: B\n",
            "Fila: ['C']\n",
            "Visitados: {'C', 'B', 'A'}\n",
            "Adicionado à fila: D\n",
            "Adicionado à fila: E\n",
            "---\n",
            "Escolhido: C\n",
            "Fila: ['D', 'E']\n",
            "Visitados: {'C', 'B', 'D', 'E', 'A'}\n",
            "Adicionado à fila: F\n",
            "---\n",
            "Escolhido: D\n",
            "Fila: ['E', 'F']\n",
            "Visitados: {'F', 'C', 'B', 'D', 'E', 'A'}\n",
            "---\n",
            "Escolhido: E\n",
            "Fila: ['F']\n",
            "Visitados: {'F', 'C', 'B', 'D', 'E', 'A'}\n",
            "---\n",
            "Escolhido: F\n",
            "Fila: []\n",
            "Visitados: {'F', 'C', 'B', 'D', 'E', 'A'}\n",
            "---\n"
          ]
        }
      ]
    },
    {
      "cell_type": "code",
      "source": [
        "def busca_em_profundidade(grafo, inicio, visitados=set()):\n",
        "    if inicio not in visitados:  # Se o vértice não foi visitado\n",
        "        print(inicio, end=\" \")  # Imprime o vértice\n",
        "        visitados.add(inicio)  # Marca o vértice como visitado\n",
        "\n",
        "        for vizinho in grafo[inicio]:  # Para cada vizinho do vértice atual\n",
        "            busca_em_profundidade(grafo, vizinho, visitados)  # Chama recursivamente a DFS para o vizinho\n",
        "\n",
        "\n",
        "# Exemplo de uso\n",
        "grafo = {\n",
        "    'A': ['B', 'C'],\n",
        "    'B': ['A', 'D', 'E'],\n",
        "    'C': ['A', 'F'],\n",
        "    'D': ['B'],\n",
        "    'E': ['B', 'F'],\n",
        "    'F': ['C', 'E']\n",
        "}\n",
        "\n",
        "busca_em_profundidade(grafo, 'A') # Output: A B D E F C"
      ],
      "metadata": {
        "colab": {
          "base_uri": "https://localhost:8080/"
        },
        "id": "aQGASRNABKsE",
        "outputId": "ab8c212e-79b3-4fe4-ae23-8fbf809fd9e4"
      },
      "execution_count": null,
      "outputs": [
        {
          "output_type": "stream",
          "name": "stdout",
          "text": [
            "A B D E F C "
          ]
        }
      ]
    },
    {
      "cell_type": "code",
      "source": [
        "def busca_em_profundidade(grafo, inicio, visitados=set(), nivel=0):\n",
        "    if inicio not in visitados:  # Se o vértice não foi visitado\n",
        "        print(f'{\"  \" * nivel}Escolhido: {inicio}')  # Imprime o vértice escolhido\n",
        "        print(f'{\"  \" * nivel}Visitados: {visitados}')  # Imprime os vértices visitados até agora\n",
        "        visitados.add(inicio)  # Marca o vértice como visitado\n",
        "\n",
        "        for vizinho in grafo[inicio]:  # Para cada vizinho do vértice atual\n",
        "            print(f'{\"  \" * nivel}Recursão para: {vizinho}')  # Indica início da recursão\n",
        "            busca_em_profundidade(grafo, vizinho, visitados, nivel+1)  # Chama recursivamente a DFS para o vizinho\n",
        "            print(f'{\"  \" * nivel}Retorno da recursão de {vizinho}')  # Indica fim da recursão\n",
        "\n",
        "# Exemplo de uso\n",
        "grafo = {\n",
        "    'A': ['B', 'C'],\n",
        "    'B': ['A', 'D', 'E'],\n",
        "    'C': ['A', 'F'],\n",
        "    'D': ['B'],\n",
        "    'E': ['B', 'F'],\n",
        "    'F': ['C', 'E']\n",
        "}\n",
        "\n",
        "busca_em_profundidade(grafo, 'A')\n"
      ],
      "metadata": {
        "id": "YE7tKyxuGQkh",
        "outputId": "acc8463c-4605-434c-deba-04ca4acc4341",
        "colab": {
          "base_uri": "https://localhost:8080/"
        }
      },
      "execution_count": null,
      "outputs": [
        {
          "output_type": "stream",
          "name": "stdout",
          "text": [
            "Escolhido: A\n",
            "Visitados: set()\n",
            "Recursão para: B\n",
            "  Escolhido: B\n",
            "  Visitados: {'A'}\n",
            "  Recursão para: A\n",
            "  Retorno da recursão de A\n",
            "  Recursão para: D\n",
            "    Escolhido: D\n",
            "    Visitados: {'B', 'A'}\n",
            "    Recursão para: B\n",
            "    Retorno da recursão de B\n",
            "  Retorno da recursão de D\n",
            "  Recursão para: E\n",
            "    Escolhido: E\n",
            "    Visitados: {'D', 'B', 'A'}\n",
            "    Recursão para: B\n",
            "    Retorno da recursão de B\n",
            "    Recursão para: F\n",
            "      Escolhido: F\n",
            "      Visitados: {'E', 'D', 'B', 'A'}\n",
            "      Recursão para: C\n",
            "        Escolhido: C\n",
            "        Visitados: {'F', 'B', 'D', 'E', 'A'}\n",
            "        Recursão para: A\n",
            "        Retorno da recursão de A\n",
            "        Recursão para: F\n",
            "        Retorno da recursão de F\n",
            "      Retorno da recursão de C\n",
            "      Recursão para: E\n",
            "      Retorno da recursão de E\n",
            "    Retorno da recursão de F\n",
            "  Retorno da recursão de E\n",
            "Retorno da recursão de B\n",
            "Recursão para: C\n",
            "Retorno da recursão de C\n"
          ]
        }
      ]
    },
    {
      "cell_type": "code",
      "source": [
        "import heapq  # Importa a biblioteca heapq para usar a fila de prioridade\n",
        "\n",
        "def dijkstra(grafo, inicio):\n",
        "    distancias = {vertice: float('inf') for vertice in grafo}  # Inicializa as distâncias como infinito\n",
        "    distancias[inicio] = 0  # Define a distância do vértice inicial como 0\n",
        "    fila_prioridade = [(0, inicio)]  # Inicializa a fila de prioridade com a distância e o vértice inicial\n",
        "\n",
        "    while fila_prioridade:  # Enquanto a fila de prioridade não estiver vazia\n",
        "        distancia_atual, vertice_atual = heapq.heappop(fila_prioridade)  # Remove o elemento de menor distância da fila\n",
        "\n",
        "        if distancia_atual > distancias[vertice_atual]:\n",
        "            continue  # Se a distância atual for maior que a conhecida, não faz nada\n",
        "\n",
        "        for vizinho, peso in grafo[vertice_atual].items():  # Para cada vizinho do vértice atual\n",
        "            distancia = distancia_atual + peso  # Calcula a nova distância\n",
        "\n",
        "            if distancia < distancias[vizinho]:  # Se a nova distância for menor que a conhecida\n",
        "                distancias[vizinho] = distancia  # Atualiza a distância\n",
        "                heapq.heappush(fila_prioridade, (distancia, vizinho))  # Adiciona à fila de prioridade\n",
        "\n",
        "    return distancias  # Retorna as distâncias mínimas\n",
        "\n",
        "\n",
        "\n",
        "# Exemplo de uso\n",
        "grafo = {\n",
        "    'A': {'B': 1, 'C': 4},\n",
        "    'B': {'A': 1, 'C': 2, 'D': 5},\n",
        "    'C': {'A': 4, 'B': 2, 'D': 1},\n",
        "    'D': {'B': 5, 'C': 1}\n",
        "}\n",
        "\n",
        "print(dijkstra(grafo, 'A')) # Output: {'A': 0, 'B': 1, 'C': 3, 'D': 4}"
      ],
      "metadata": {
        "colab": {
          "base_uri": "https://localhost:8080/"
        },
        "id": "DRvFh37IBM9y",
        "outputId": "b36b84da-191e-434a-c56d-0fe0271c8c8c"
      },
      "execution_count": null,
      "outputs": [
        {
          "output_type": "stream",
          "name": "stdout",
          "text": [
            "{'A': 0, 'B': 1, 'C': 3, 'D': 4}\n"
          ]
        }
      ]
    }
  ]
}