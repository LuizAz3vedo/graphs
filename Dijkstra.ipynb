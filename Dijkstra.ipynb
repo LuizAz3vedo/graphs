{
  "nbformat": 4,
  "nbformat_minor": 0,
  "metadata": {
    "colab": {
      "provenance": [],
      "authorship_tag": "ABX9TyN2tbXlYIZsWhv2a8yDFWrm",
      "include_colab_link": true
    },
    "kernelspec": {
      "name": "python3",
      "display_name": "Python 3"
    },
    "language_info": {
      "name": "python"
    }
  },
  "cells": [
    {
      "cell_type": "markdown",
      "metadata": {
        "id": "view-in-github",
        "colab_type": "text"
      },
      "source": [
        "<a href=\"https://colab.research.google.com/github/LuizAz3vedo/graphs/blob/main/Dijkstra.ipynb\" target=\"_parent\"><img src=\"https://colab.research.google.com/assets/colab-badge.svg\" alt=\"Open In Colab\"/></a>"
      ]
    },
    {
      "cell_type": "markdown",
      "source": [
        "O algoritmo de Dijkstra é um algoritmo amplamente utilizado na área de ciência da computação e engenharia de redes, e sua principal função é encontrar o caminho mais curto entre dois pontos em um grafo ponderado, onde os vértices representam pontos ou locais e as arestas entre eles têm pesos que indicam a distância, custo, tempo, ou qualquer outra métrica relevante entre os pontos.\n",
        "\n",
        "Em termos mais simples, o algoritmo de Dijkstra resolve o problema do caminho mais curto."
      ],
      "metadata": {
        "id": "DF3Yzat1R3b-"
      }
    },
    {
      "cell_type": "code",
      "execution_count": null,
      "metadata": {
        "colab": {
          "base_uri": "https://localhost:8080/"
        },
        "id": "f0ZYYQLRRzzP",
        "outputId": "fe869c12-82d8-4705-e662-57b61c28ab55"
      },
      "outputs": [
        {
          "output_type": "stream",
          "name": "stdout",
          "text": [
            "Menor custo para chegar ao vértice 0: 0\n",
            "Menor custo para chegar ao vértice 1: 1\n",
            "Menor custo para chegar ao vértice 2: 3\n",
            "Menor custo para chegar ao vértice 3: 4\n",
            "Caminho mínimo: ['0', '1', '2', '3']\n"
          ]
        }
      ],
      "source": [
        "# Grafo com custos nos arcos\n",
        "grafo1 = {\n",
        "    \"0\": {\"1\": 1, \"2\": 3, \"5\": 6},\n",
        "    \"1\": {\"2\": 1},\n",
        "    \"2\": {\"3\": 1},\n",
        "    \"3\": {\"4\": 1},\n",
        "    \"4\": {\"5\": 1},\n",
        "    \"5\": {}\n",
        "}\n",
        "\n",
        "#a = 0 b =1 c= 2 d=3\n",
        "\n",
        "grafo = {\n",
        "    \"0\": {\"1\": 1, \"2\": 4},\n",
        "    \"1\": {\"2\": 2, \"3\": 5},\n",
        "    \"2\": {\"3\": 1},\n",
        "    \"3\": {},\n",
        "}\n",
        "\n",
        "# Vértice inicial\n",
        "inicio = \"0\"\n",
        "\n",
        "# Inicialização das estruturas de dados\n",
        "infinito = float(\"inf\")\n",
        "custos = {vertice: infinito for vertice in grafo}\n",
        "custos[inicio] = 0\n",
        "\n",
        "pais = {vertice: None for vertice in grafo}\n",
        "\n",
        "processados = []\n",
        "\n",
        "# Função para encontrar o vértice com o custo mais baixo\n",
        "def ache_no_custo_mais_baixo(custos, processados):\n",
        "    custo_mais_baixo = infinito\n",
        "    nodo_custo_mais_baixo = None\n",
        "    for nodo in custos:\n",
        "        custo = custos[nodo]\n",
        "        if custo < custo_mais_baixo and nodo not in processados:\n",
        "            custo_mais_baixo = custo\n",
        "            nodo_custo_mais_baixo = nodo\n",
        "    return nodo_custo_mais_baixo\n",
        "\n",
        "nodo = ache_no_custo_mais_baixo(custos, processados)\n",
        "\n",
        "while nodo is not None:\n",
        "    custo = custos[nodo]\n",
        "    vizinhos = grafo[nodo]\n",
        "    for n in vizinhos:\n",
        "        novo_custo = custo + vizinhos[n]\n",
        "        if custos[n] > novo_custo:\n",
        "            custos[n] = novo_custo\n",
        "            pais[n] = nodo\n",
        "    processados.append(nodo)\n",
        "    nodo = ache_no_custo_mais_baixo(custos, processados)\n",
        "\n",
        "# Imprimir os resultados\n",
        "for vertice in custos:\n",
        "    print(f\"Menor custo para chegar ao vértice {vertice}: {custos[vertice]}\")\n",
        "\n",
        "# Encontrar e imprimir o caminho mínimo do vértice \"0\" ao vértice \"5\"\n",
        "caminho_minimo = []\n",
        "vertice_atual = \"3\"  # Vértice de destino\n",
        "while vertice_atual is not None:\n",
        "    caminho_minimo.insert(0, vertice_atual)\n",
        "    vertice_atual = pais[vertice_atual]\n",
        "\n",
        "print(\"Caminho mínimo:\", caminho_minimo)"
      ]
    }
  ]
}