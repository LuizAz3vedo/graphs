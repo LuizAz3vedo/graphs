{
  "nbformat": 4,
  "nbformat_minor": 0,
  "metadata": {
    "colab": {
      "provenance": [],
      "authorship_tag": "ABX9TyN7LenA/PwmN4cJ4RUHL4ov",
      "include_colab_link": true
    },
    "kernelspec": {
      "name": "python3",
      "display_name": "Python 3"
    },
    "language_info": {
      "name": "python"
    }
  },
  "cells": [
    {
      "cell_type": "markdown",
      "metadata": {
        "id": "view-in-github",
        "colab_type": "text"
      },
      "source": [
        "<a href=\"https://colab.research.google.com/github/LuizAz3vedo/graphs/blob/main/BuscaemLarguraAula.ipynb\" target=\"_parent\"><img src=\"https://colab.research.google.com/assets/colab-badge.svg\" alt=\"Open In Colab\"/></a>"
      ]
    },
    {
      "cell_type": "code",
      "execution_count": null,
      "metadata": {
        "colab": {
          "base_uri": "https://localhost:8080/"
        },
        "id": "BAHfxRP_Y1Vk",
        "outputId": "9871399c-058c-4d41-89c0-28a9a48b46a1"
      },
      "outputs": [
        {
          "output_type": "stream",
          "name": "stdout",
          "text": [
            "A B C D E F "
          ]
        }
      ],
      "source": [
        "#busca em largura aula\n",
        "from collections import deque\n",
        "\n",
        "def busca_em_largura(grafo, inicio):\n",
        "  visitados = set()\n",
        "  fila = deque([inicio])\n",
        "  visitados.add(inicio)\n",
        "\n",
        "  while fila:\n",
        "    vertice = fila.popleft()\n",
        "    print(vertice, end=\" \")\n",
        "    for vizinho in grafo[vertice]:\n",
        "      if vizinho not in visitados:\n",
        "        fila.append(vizinho)\n",
        "        visitados.add(vizinho)\n",
        "\n",
        "grafo = {\n",
        "    'A': ['B', 'C'],\n",
        "    'B': ['A', 'D', 'E'],\n",
        "    'C': ['A', 'F'],\n",
        "    'D': ['B'],\n",
        "    'E': ['B', 'F'],\n",
        "    'F': ['C', 'E']\n",
        "}\n",
        "\n",
        "busca_em_largura(grafo, 'A')"
      ]
    },
    {
      "cell_type": "code",
      "source": [
        "def busca_em_profundidade(grafo, vertice, visitados):\n",
        "  if vertice not in visitados:\n",
        "    print(vertice)\n",
        "    visitados.add(vertice)\n",
        "    for vizinho in grafo[vertice]:\n",
        "      busca_em_profundidade(grafo, vizinho, visitados)\n",
        "\n",
        "grafo = {\n",
        "    'A': ['B', 'C'],\n",
        "    'B': ['A', 'D', 'E'],\n",
        "    'C': ['A', 'F'],\n",
        "    'D': ['B'],\n",
        "    'E': ['B', 'F'],\n",
        "    'F': ['C', 'E']\n",
        "}\n",
        "\n",
        "visitados = set()\n",
        "\n",
        "vertice_inicial = 'A'\n",
        "busca_em_profundidade(grafo, vertice_inicial, visitados)"
      ],
      "metadata": {
        "colab": {
          "base_uri": "https://localhost:8080/"
        },
        "id": "CkdlT6-gjvCu",
        "outputId": "8a94c612-3dac-40e3-8476-bb845646c187"
      },
      "execution_count": null,
      "outputs": [
        {
          "output_type": "stream",
          "name": "stdout",
          "text": [
            "A\n",
            "B\n",
            "D\n",
            "E\n",
            "F\n",
            "C\n"
          ]
        }
      ]
    }
  ]
}